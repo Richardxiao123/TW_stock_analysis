{
  "nbformat": 4,
  "nbformat_minor": 0,
  "metadata": {
    "colab": {
      "provenance": [],
      "toc_visible": true,
      "include_colab_link": true
    },
    "kernelspec": {
      "name": "python3",
      "display_name": "Python 3"
    },
    "language_info": {
      "name": "python"
    }
  },
  "cells": [
    {
      "cell_type": "markdown",
      "metadata": {
        "id": "view-in-github",
        "colab_type": "text"
      },
      "source": [
        "<a href=\"https://colab.research.google.com/github/Richardxiao123/TW_stock_analysis/blob/main/%E8%82%A1%E7%A5%A8%E8%B3%87%E6%96%99%E8%99%95%E7%90%86.ipynb\" target=\"_parent\"><img src=\"https://colab.research.google.com/assets/colab-badge.svg\" alt=\"Open In Colab\"/></a>"
      ]
    },
    {
      "cell_type": "code",
      "source": [
        "import yfinance as yf\n",
        "import pandas as pd\n",
        "from sklearn.preprocessing import MinMaxScaler#目的：標準化數據\n",
        "print('/n')"
      ],
      "metadata": {
        "colab": {
          "base_uri": "https://localhost:8080/"
        },
        "id": "fEKrEkAUUQKb",
        "outputId": "8d8c2f5d-442c-4f4d-91c0-73f926e6f806"
      },
      "execution_count": null,
      "outputs": [
        {
          "output_type": "stream",
          "name": "stdout",
          "text": [
            "/n\n"
          ]
        }
      ]
    },
    {
      "cell_type": "code",
      "source": [
        "\n",
        "# 獲取股票數據\n",
        "ticker = '2360.TW'\n",
        "data = yf.download(ticker,start='2024-2-19', end=\"2024-3-7\")\n",
        "\n",
        "print(data, '\\n', '--------------------------------------------------------')\n",
        "\n",
        "# 進行數據標準化\n",
        "scaler = MinMaxScaler()\n",
        "data_temp = pd.DataFrame(index=data.index)  # 設定索引\n",
        "\n",
        "data_temp['score'] = 2  # 設定分數\n",
        "\n",
        "for a in ['Close', 'High', 'Low', 'Open', 'Volume']:\n",
        "    data_temp[a] = scaler.fit_transform(data[[a]])  # 線性變換 0~1\n",
        "print(data_temp)\n",
        "\n",
        "# 10 天為一組轉到同一排\n",
        "new_data = {}\n",
        "new_data[\"score\"] = [data_temp[\"score\"].iloc[0]]\n",
        "\n",
        "for a in ['Close', 'High', 'Low', 'Open']:\n",
        "    for i in range(10):\n",
        "        new_data[f\"{a}{i+1}\"] = data_temp[a].iloc[i]\n",
        "\n",
        "# 轉換為 DataFrame\n",
        "new_data = pd.DataFrame(new_data)\n",
        "\n",
        "# 把 10 天股價展開後加到 data_train\n",
        "data_test = pd.concat([data_test, new_data], ignore_index=True)\n",
        "\n",
        "# 輸出轉換後的數據\n",
        "print(data_test)\n"
      ],
      "metadata": {
        "id": "q11lL7sZ7uHx",
        "colab": {
          "base_uri": "https://localhost:8080/"
        },
        "outputId": "f15e8440-efab-4fee-a5c0-4149c8150787"
      },
      "execution_count": null,
      "outputs": [
        {
          "output_type": "stream",
          "name": "stderr",
          "text": [
            "\r[*********************100%***********************]  1 of 1 completed"
          ]
        },
        {
          "output_type": "stream",
          "name": "stdout",
          "text": [
            "Price            Close        High         Low        Open   Volume\n",
            "Ticker         2360.TW     2360.TW     2360.TW     2360.TW  2360.TW\n",
            "Date                                                               \n",
            "2024-02-19  207.753754  211.175580  205.798424  207.753754  1866622\n",
            "2024-02-20  217.041565  219.485727  208.242583  208.242583  3188328\n",
            "2024-02-21  222.418716  228.284705  215.575064  218.019225  5555451\n",
            "2024-02-22  226.329376  233.173029  224.862879  227.795873  5132166\n",
            "2024-02-23  233.661865  245.393842  229.751206  230.240039  8530106\n",
            "2024-02-26  231.706543  240.505526  231.217711  237.083699  4661520\n",
            "2024-02-27  224.374054  231.706539  219.974563  220.463395  6120167\n",
            "2024-02-29  227.795883  230.728877  224.862889  227.307051  3652052\n",
            "2024-03-01  228.773544  234.150700  228.773544  230.240041  2103267\n",
            "2024-03-04  238.550186  238.550186  228.284707  228.284707  3097880\n",
            "2024-03-05  259.081146  261.036476  238.550187  241.483182  8650794\n",
            "2024-03-06  268.857788  276.679106  247.837997  250.770991  9683632 \n",
            " --------------------------------------------------------\n",
            "            score  Close      High       Low      Open    Volume\n",
            "Date                                                            \n",
            "2024-02-19      2  0.000  0.000000  0.000000  0.000000  0.000000\n",
            "2024-02-20      2  0.152  0.126866  0.058139  0.011364  0.169081\n",
            "2024-02-21      2  0.240  0.261194  0.232558  0.238636  0.471898\n",
            "2024-02-22      2  0.304  0.335821  0.453488  0.465909  0.417748\n",
            "2024-02-23      2  0.424  0.522388  0.569767  0.522727  0.852434\n",
            "2024-02-26      2  0.392  0.447761  0.604651  0.681818  0.357541\n",
            "2024-02-27      2  0.272  0.313433  0.337209  0.295455  0.544140\n",
            "2024-02-29      2  0.328  0.298508  0.453489  0.454546  0.228403\n",
            "2024-03-01      2  0.344  0.350746  0.546512  0.522727  0.030273\n",
            "2024-03-04      2  0.504  0.417910  0.534884  0.477273  0.157510\n",
            "2024-03-05      2  0.840  0.761194  0.779070  0.784091  0.867873\n",
            "2024-03-06      2  1.000  1.000000  1.000000  1.000000  1.000000\n",
            "   score  Close1  Close2  Close3  Close4  Close5  Close6  Close7  Close8  \\\n",
            "0      2     0.0   0.152    0.24   0.304   0.424   0.392   0.272   0.328   \n",
            "\n",
            "   Close9  ...  Open1     Open2     Open3     Open4     Open5     Open6  \\\n",
            "0   0.344  ...    0.0  0.011364  0.238636  0.465909  0.522727  0.681818   \n",
            "\n",
            "      Open7     Open8     Open9    Open10  \n",
            "0  0.295455  0.454546  0.522727  0.477273  \n",
            "\n",
            "[1 rows x 41 columns]\n"
          ]
        },
        {
          "output_type": "stream",
          "name": "stderr",
          "text": [
            "\n"
          ]
        }
      ]
    },
    {
      "cell_type": "code",
      "source": [
        "from google.colab import files\n",
        "data_test.to_csv('data_test_1000.csv')\n",
        "files.download('data_test_1000.csv')"
      ],
      "metadata": {
        "id": "hkkp4o_ylmak"
      },
      "execution_count": null,
      "outputs": []
    },
    {
      "cell_type": "code",
      "source": [
        "data_train =pd.read_csv(\"data_train.csv\")\n",
        "print(data_train)\n"
      ],
      "metadata": {
        "id": "LuMO_u68PinJ"
      },
      "execution_count": null,
      "outputs": []
    },
    {
      "cell_type": "code",
      "source": [
        "data_train['score'][6]=3\n",
        "\n",
        "print(data_train)"
      ],
      "metadata": {
        "id": "lLkNZ30NY5wX"
      },
      "execution_count": null,
      "outputs": []
    },
    {
      "cell_type": "code",
      "source": [
        "data_test=pd.DataFrame()"
      ],
      "metadata": {
        "id": "0ssT2-4CVGZt"
      },
      "execution_count": null,
      "outputs": []
    },
    {
      "cell_type": "code",
      "source": [
        "import yfinance as yf\n",
        "\n",
        "buy_list = ['1615.TW', '2059.TW', '2328.TW', '2379.TW', '2385.TW', '2387.TW', '6799.TW',\n",
        "            '2392.TW', '2420.TW', '2455.TW', '2482.TW', '2491.TW', '2543.TW', '2603.TW',\n",
        "            '2637.TW', '3004.TW', '3028.TW', '3501.TW', '3563.TW', '3588.TW', '3592.TW',\n",
        "            '4562.TW', '4588.TW', '4912.TW', '4994.TW', '5269.TW', '6165.TW', '6176.TW',\n",
        "            '6177.TW', '6196.TW', '6409.TW', '6412.TW', '6438.TW', '6491.TW', '6754.TW']\n",
        "\n",
        "change_rate=[]\n",
        "for ticker in buy_list:\n",
        "        back_test = yf.download(ticker, start='2024-3-6', end=\"2024-3-7\")\n",
        "        back_test2 = yf.download(ticker, start='2024-3-21', end=\"2024-3-22\")\n",
        "\n",
        "        # 確認資料下載成功\n",
        "\n",
        "        x = back_test['Close'].iloc[0].item()\n",
        "        y = back_test2['Close'].iloc[0].item()\n",
        "        z = y - x\n",
        "        change_rate.append(z/x)\n",
        "        print(f\"{ticker}: 變動比例 = {z / x}\")\n",
        "\n",
        "\n",
        "print(change_rate)\n",
        "print('報酬率',sum(change_rate))\n",
        "amount = len(change_rate)\n",
        "print('平均報酬率',sum(change_rate)/amount)"
      ],
      "metadata": {
        "id": "3o-FiMFIVg7K"
      },
      "execution_count": null,
      "outputs": []
    },
    {
      "cell_type": "markdown",
      "source": [],
      "metadata": {
        "id": "rCEXuhLOhvNH"
      }
    },
    {
      "cell_type": "code",
      "source": [
        "import pandas as pd\n",
        "import numpy as np\n",
        "\n",
        "\n",
        "def augment_data(data: pd.DataFrame, target_size: int, noise_level: float = 0.02) -> pd.DataFrame:\n",
        "\n",
        "    num_new_samples = target_size - len(data)\n",
        "    np.random.seed(0)\n",
        "\n",
        "    # 隨機從原始資料中選擇資料來進行增強\n",
        "    selected_indices = np.random.choice(data.index, num_new_samples, replace=True)\n",
        "    new_samples = data.iloc[selected_indices].copy()\n",
        "\n",
        "    # 對數據進行增強\n",
        "    for col in data.columns[3:]:  # 忽略 'Unnamed: 0', 'unnamed', 'score'\n",
        "        original_values = new_samples[col].values\n",
        "        noise = np.random.normal(0, noise_level, original_values.shape)\n",
        "\n",
        "        # 隨機選擇 Scaling 或 Shifting\n",
        "        random_choice = np.random.rand(len(original_values))\n",
        "        adjusted_values = np.where(\n",
        "            random_choice < 0.5,\n",
        "            original_values * (1 + noise),  # 微調 (Scaling)\n",
        "            original_values + noise  # 加入噪音 (Shifting)\n",
        "        )\n",
        "\n",
        "        new_samples[col] = adjusted_values\n",
        "\n",
        "    # 將原始資料與增強資料合併\n",
        "    augmented_data = pd.concat([data, new_samples], ignore_index=True)\n",
        "    return augmented_data\n"
      ],
      "metadata": {
        "id": "lUQ64LoAwKWa"
      },
      "execution_count": null,
      "outputs": []
    }
  ]
}