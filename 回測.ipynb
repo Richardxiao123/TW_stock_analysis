{
  "nbformat": 4,
  "nbformat_minor": 0,
  "metadata": {
    "colab": {
      "provenance": [],
      "authorship_tag": "ABX9TyNtP+6DGY7mhkNvvH/HY/eY",
      "include_colab_link": true
    },
    "kernelspec": {
      "name": "python3",
      "display_name": "Python 3"
    },
    "language_info": {
      "name": "python"
    }
  },
  "cells": [
    {
      "cell_type": "markdown",
      "metadata": {
        "id": "view-in-github",
        "colab_type": "text"
      },
      "source": [
        "<a href=\"https://colab.research.google.com/github/Richardxiao123/TW_stock_analysis/blob/main/%E5%9B%9E%E6%B8%AC.ipynb\" target=\"_parent\"><img src=\"https://colab.research.google.com/assets/colab-badge.svg\" alt=\"Open In Colab\"/></a>"
      ]
    },
    {
      "cell_type": "markdown",
      "source": [
        "#載入所有股票代號"
      ],
      "metadata": {
        "id": "rkDS-wmsbtRV"
      }
    },
    {
      "cell_type": "code",
      "source": [
        "import pandas as pd\n",
        "\n",
        "stock_code =pd.read_csv(\"stock_code.csv\")\n",
        "stock_code=stock_code.drop(columns=['stock_code'])\n",
        "stock_code = stock_code.reset_index().rename(columns={'index': 'stockprice'})\n",
        "\n",
        "print(stock_code)\n",
        "\n",
        "\n"
      ],
      "metadata": {
        "id": "HZlkWUADSm__",
        "collapsed": true,
        "colab": {
          "base_uri": "https://localhost:8080/"
        },
        "outputId": "a903076f-6486-403c-f081-1aa31006b634"
      },
      "execution_count": null,
      "outputs": [
        {
          "output_type": "stream",
          "name": "stdout",
          "text": [
            "     stockprice\n",
            "0          1101\n",
            "1         1101B\n",
            "2          1102\n",
            "3          1103\n",
            "4          1104\n",
            "...         ...\n",
            "1068       9944\n",
            "1069       9945\n",
            "1070       9946\n",
            "1071       9955\n",
            "1072       9958\n",
            "\n",
            "[1073 rows x 1 columns]\n"
          ]
        }
      ]
    },
    {
      "cell_type": "markdown",
      "source": [
        "# 數據處理\n"
      ],
      "metadata": {
        "id": "vex2pc0nbdft"
      }
    },
    {
      "cell_type": "code",
      "source": [
        "import yfinance as yf\n",
        "import pandas as pd\n",
        "from sklearn.preprocessing import MinMaxScaler\n",
        "\n",
        "data_test = pd.DataFrame()\n",
        "\n",
        "\n",
        "for a in stock_code['stockprice']:\n",
        "    ticker =f\"{a}.TW\"\n",
        "    data = yf.download(ticker,start='2024-2-19', end=\"2024-3-7\")\n",
        "\n",
        "    if data.empty:\n",
        "        print(f\"{ticker}.無資料跳過\")\n",
        "        continue\n",
        "\n",
        "    # 進行數據標準化\n",
        "    scaler = MinMaxScaler()\n",
        "    data_temp = pd.DataFrame(index=data.index)\n",
        "    data_temp['name'] = f\"{a}.TW\"\n",
        "\n",
        "    for x in ['Close', 'High', 'Low', 'Open', 'Volume']:\n",
        "        data_temp[x] = scaler.fit_transform(data[[x]])  # 線性變換 0~1\n",
        "\n",
        "    # 10 天為一組轉到同一排\n",
        "    new_data = {}\n",
        "    new_data['name'] = [data_temp['name'].iloc[0]]\n",
        "\n",
        "    for i in ['Close', 'High', 'Low', 'Open']:\n",
        "        for y in range(10):\n",
        "            new_data[f\"{i}{y+1}\"] = data_temp[i].iloc[y]\n",
        "\n",
        "    new_data = pd.DataFrame(new_data)\n",
        "    data_test = pd.concat([data_test, new_data], ignore_index=True)\n",
        "    #print(new_data)\n",
        "\n",
        "print(data_test)\n"
      ],
      "metadata": {
        "id": "acLl_5iHOscC"
      },
      "execution_count": null,
      "outputs": []
    },
    {
      "cell_type": "code",
      "source": [
        "from google.colab import files\n",
        "data_test.to_csv('data_run.csv')\n",
        "files.download('data_run.csv')"
      ],
      "metadata": {
        "colab": {
          "base_uri": "https://localhost:8080/",
          "height": 17
        },
        "id": "IzesckaCZ76d",
        "outputId": "83386980-0f5d-406a-8174-8174f910ccb5"
      },
      "execution_count": null,
      "outputs": [
        {
          "output_type": "display_data",
          "data": {
            "text/plain": [
              "<IPython.core.display.Javascript object>"
            ],
            "application/javascript": [
              "\n",
              "    async function download(id, filename, size) {\n",
              "      if (!google.colab.kernel.accessAllowed) {\n",
              "        return;\n",
              "      }\n",
              "      const div = document.createElement('div');\n",
              "      const label = document.createElement('label');\n",
              "      label.textContent = `Downloading \"${filename}\": `;\n",
              "      div.appendChild(label);\n",
              "      const progress = document.createElement('progress');\n",
              "      progress.max = size;\n",
              "      div.appendChild(progress);\n",
              "      document.body.appendChild(div);\n",
              "\n",
              "      const buffers = [];\n",
              "      let downloaded = 0;\n",
              "\n",
              "      const channel = await google.colab.kernel.comms.open(id);\n",
              "      // Send a message to notify the kernel that we're ready.\n",
              "      channel.send({})\n",
              "\n",
              "      for await (const message of channel.messages) {\n",
              "        // Send a message to notify the kernel that we're ready.\n",
              "        channel.send({})\n",
              "        if (message.buffers) {\n",
              "          for (const buffer of message.buffers) {\n",
              "            buffers.push(buffer);\n",
              "            downloaded += buffer.byteLength;\n",
              "            progress.value = downloaded;\n",
              "          }\n",
              "        }\n",
              "      }\n",
              "      const blob = new Blob(buffers, {type: 'application/binary'});\n",
              "      const a = document.createElement('a');\n",
              "      a.href = window.URL.createObjectURL(blob);\n",
              "      a.download = filename;\n",
              "      div.appendChild(a);\n",
              "      a.click();\n",
              "      div.remove();\n",
              "    }\n",
              "  "
            ]
          },
          "metadata": {}
        },
        {
          "output_type": "display_data",
          "data": {
            "text/plain": [
              "<IPython.core.display.Javascript object>"
            ],
            "application/javascript": [
              "download(\"download_e20e25d4-0e49-46ed-9512-417449f12696\", \"data_run.csv\", 651030)"
            ]
          },
          "metadata": {}
        }
      ]
    },
    {
      "cell_type": "markdown",
      "source": [
        "# 開始預測"
      ],
      "metadata": {
        "id": "x_87Dt70bnZk"
      }
    },
    {
      "cell_type": "code",
      "source": [
        "import pickle\n",
        "import pandas as pd\n",
        "\n",
        "with open(\"rf_model.pkl\", \"rb\") as f:\n",
        "    rf_model = pickle.load(f)\n",
        "\n",
        "#讀檔\n",
        "data_run =pd.read_csv(\"data_run.csv\")\n",
        "\n",
        "X_test=data_run.drop(columns=['name']).drop(columns=['Unnamed: 0'])\n",
        "name=data_run['name']\n",
        "print(X_test)\n",
        "\n",
        "y_pred = rf_model.predict(X_test)\n",
        "\n",
        "print(y_pred)\n",
        "\n",
        "count=0\n",
        "buy_list=[]\n",
        "for n in y_pred:\n",
        "    if n == 5:\n",
        "        print(name[count])\n",
        "        buy_list.append(name[count])\n",
        "        count+=1\n",
        "    else:\n",
        "          count+=1\n",
        "\n",
        "print(buy_list)"
      ],
      "metadata": {
        "colab": {
          "base_uri": "https://localhost:8080/"
        },
        "id": "c91U9FtyHv7n",
        "outputId": "845f93ef-80f3-4c86-ee53-f06d170ea73e"
      },
      "execution_count": null,
      "outputs": [
        {
          "output_type": "stream",
          "name": "stdout",
          "text": [
            "       Close1    Close2    Close3    Close4    Close5    Close6    Close7  \\\n",
            "0    1.000000  0.842106  0.684211  0.736840  0.578949  0.315789  0.000000   \n",
            "1    0.624999  0.749993  0.749993  0.749993  0.000000  0.249998  0.749993   \n",
            "2    0.333330  0.444446  0.666661  0.888893  0.444446  0.555554  0.222214   \n",
            "3    0.636363  0.909090  0.909090  1.000000  0.818180  1.000000  0.545457   \n",
            "4    0.108695  0.000000  0.021740  0.086956  0.130435  0.217391  0.152173   \n",
            "..        ...       ...       ...       ...       ...       ...       ...   \n",
            "951  0.596154  0.365384  0.288462  0.288462  0.269231  0.115385  0.000000   \n",
            "952  0.400010  0.400010  0.199997  0.400010  0.000000  0.199997  0.400010   \n",
            "953  0.000000  0.071429  0.142857  0.190476  0.452381  0.690476  0.738095   \n",
            "954  1.000000  0.968750  0.984375  0.937500  0.875001  0.640626  0.531250   \n",
            "955  0.128571  0.100000  0.000000  0.242857  0.028572  0.085714  0.142857   \n",
            "\n",
            "       Close8    Close9   Close10  ...     Open1         Open2     Open3  \\\n",
            "0    0.263155  0.210526  0.210526  ...  0.062499  1.000000e+00  0.875003   \n",
            "1    0.749993  0.749993  1.000000  ...  0.555556  6.666617e-01  0.666662   \n",
            "2    1.000000  0.333330  0.111107  ...  0.000000  5.000017e-01  0.750000   \n",
            "3    0.272730  0.454543  0.272730  ...  0.538461  5.384616e-01  0.846154   \n",
            "4    0.347826  0.369564  0.760869  ...  0.073170  9.756085e-02  0.048781   \n",
            "..        ...       ...       ...  ...       ...           ...       ...   \n",
            "951  0.134616  0.173077  0.442308  ...  0.157895  1.000000e+00  0.342106   \n",
            "952  0.400010  1.000000  1.000000  ...  0.500014  2.499974e-01  0.750013   \n",
            "953  0.761904  0.738095  0.761904  ...  0.000000  1.854138e-07  0.023810   \n",
            "954  0.203125  0.000000  0.046875  ...  0.923077  1.000000e+00  1.000000   \n",
            "955  0.271428  0.228572  0.557142  ...  0.209304  1.860460e-01  0.093024   \n",
            "\n",
            "        Open4     Open5     Open6     Open7     Open8     Open9    Open10  \n",
            "0    0.625000  0.750000  0.500002  0.062500  0.500003  0.187503  0.062500  \n",
            "1    0.666662  1.000000  0.111114  0.777771  0.999997  0.000000  0.999999  \n",
            "2    0.666671  0.833335  0.500000  0.583336  0.500000  1.000000  0.333337  \n",
            "3    1.000000  0.769228  0.615385  0.615387  0.461540  0.307692  0.230772  \n",
            "4    0.000000  0.073170  0.146341  0.195121  0.170732  0.414634  0.585366  \n",
            "..        ...       ...       ...       ...       ...       ...       ...  \n",
            "951  0.263158  0.342106  0.184210  0.078947  0.000000  0.157895  0.210526  \n",
            "952  0.249997  0.500019  0.249999  0.000000  0.249997  0.500005  0.750003  \n",
            "953  0.119048  0.595238  0.476190  0.642857  0.738095  0.714286  0.642857  \n",
            "954  0.953847  0.923077  0.692308  0.646155  0.446154  0.215385  0.000000  \n",
            "955  0.046511  0.465118  0.000000  0.023256  0.232560  0.441863  0.558141  \n",
            "\n",
            "[956 rows x 40 columns]\n",
            "[2 1 3 1 3 3 3 2 3 1 2 2 2 4 2 3 3 3 3 2 3 3 4 1 2 2 4 2 1 1 4 1 3 4 4 1 1\n",
            " 1 4 3 3 4 4 1 3 1 1 1 2 3 4 2 3 4 2 3 3 4 3 2 4 3 2 4 3 1 3 3 2 2 3 2 2 3\n",
            " 2 2 4 2 2 3 1 1 2 2 2 3 2 2 1 2 2 2 1 2 3 3 2 3 1 3 1 3 2 4 4 3 1 4 4 4 1\n",
            " 2 2 3 4 2 4 1 3 2 1 2 4 3 3 1 4 4 2 3 1 4 4 3 2 3 3 4 3 3 3 2 1 3 3 3 4 3\n",
            " 2 3 3 5 1 3 4 2 2 2 4 3 2 4 4 1 3 4 4 1 4 2 1 3 3 4 2 3 2 1 3 2 3 2 2 1 1\n",
            " 3 3 1 4 1 4 2 2 2 5 2 4 1 2 2 2 2 3 4 3 4 2 3 2 2 3 3 2 3 1 2 2 1 3 2 4 3\n",
            " 4 4 4 1 2 1 2 2 5 3 2 1 2 2 1 3 1 3 2 1 2 2 2 2 3 3 3 3 2 3 1 2 2 3 3 1 3\n",
            " 3 2 2 3 4 3 4 3 2 2 3 3 3 2 2 4 2 5 2 4 4 3 1 2 2 3 2 1 2 3 4 1 1 1 1 2 1\n",
            " 3 2 4 2 2 3 1 3 3 3 1 4 2 3 2 3 3 5 2 3 2 5 5 1 1 5 4 2 3 3 2 3 3 4 2 2 2\n",
            " 2 1 2 2 3 3 5 1 4 3 3 1 3 3 2 3 2 3 2 1 1 1 4 2 2 3 2 3 2 4 3 4 5 2 4 4 4\n",
            " 3 4 4 2 3 2 2 2 2 4 2 3 3 1 5 1 2 3 3 4 2 5 1 1 4 2 3 2 2 4 2 3 2 2 2 3 4\n",
            " 3 3 4 4 2 3 3 2 2 2 4 3 2 5 2 4 2 3 4 2 5 4 4 2 3 2 1 4 4 2 2 2 2 4 1 1 3\n",
            " 3 2 5 2 3 2 1 3 1 2 1 3 1 2 1 1 1 2 2 2 3 3 4 2 2 3 4 3 2 3 3 3 2 3 1 2 3\n",
            " 1 3 4 4 1 2 2 2 3 3 3 2 2 3 2 3 1 2 4 1 1 3 3 2 1 4 2 2 3 3 1 2 1 3 1 2 2\n",
            " 2 4 2 2 1 4 2 1 5 4 3 4 4 1 3 3 3 2 3 2 2 3 4 3 2 2 3 4 5 3 3 2 1 4 3 3 2\n",
            " 2 2 2 3 2 2 2 3 3 3 2 2 4 2 2 2 3 4 2 2 3 1 2 3 4 1 2 1 2 1 3 3 4 1 1 4 1\n",
            " 1 3 2 2 2 3 4 1 3 4 3 3 2 3 4 1 1 4 1 3 2 2 2 3 3 5 3 3 2 2 4 3 3 1 1 2 4\n",
            " 3 5 1 4 5 4 5 3 4 3 2 2 1 3 2 4 2 2 3 1 3 3 3 4 2 3 2 4 3 3 3 4 4 2 4 2 2\n",
            " 3 1 3 1 4 2 2 2 3 1 1 2 1 2 3 3 3 2 3 2 4 4 4 4 5 2 3 1 2 3 2 3 4 5 4 4 3\n",
            " 2 3 2 4 4 3 2 4 2 2 3 5 4 3 2 1 4 2 1 2 3 3 2 1 2 3 3 2 2 1 1 1 5 2 3 1 3\n",
            " 3 4 3 2 2 4 5 2 3 2 3 4 4 4 2 1 2 3 2 4 2 1 3 2 3 4 2 4 3 4 1 2 2 3 3 1 2\n",
            " 3 4 1 1 2 1 3 2 3 2 2 4 4 3 1 1 2 2 5 1 2 5 5 4 3 2 2 4 5 3 3 1 2 3 1 1 1\n",
            " 3 2 3 4 3 3 3 3 1 4 2 4 2 4 4 1 2 4 4 2 5 5 4 2 4 4 3 5 2 1 3 3 1 3 3 4 4\n",
            " 5 2 1 3 3 4 3 1 4 1 1 2 2 2 3 2 1 4 3 2 4 4 2 3 3 1 1 2 1 1 2 3 4 3 3 4 1\n",
            " 1 1 4 1 3 1 3 4 3 3 3 5 2 1 4 2 4 3 2 3 2 4 2 5 3 1 4 2 3 4 2 4 2 3 3 2 1\n",
            " 1 4 3 3 3 1 1 3 2 4 3 4 1 3 3 1 3 1 3 3 2 3 3 1 2 2 2 2 4 1 3]\n",
            "1615.TW\n",
            "1809.TW\n",
            "2059.TW\n",
            "2328.TW\n",
            "2379.TW\n",
            "2385.TW\n",
            "2387.TW\n",
            "2392.TW\n",
            "2420.TW\n",
            "2455.TW\n",
            "2482.TW\n",
            "2491.TW\n",
            "2543.TW\n",
            "2603.TW\n",
            "2637.TW\n",
            "3004.TW\n",
            "3028.TW\n",
            "3501.TW\n",
            "3563.TW\n",
            "3588.TW\n",
            "3592.TW\n",
            "4562.TW\n",
            "4588.TW\n",
            "4912.TW\n",
            "4994.TW\n",
            "5269.TW\n",
            "6165.TW\n",
            "6176.TW\n",
            "6177.TW\n",
            "6196.TW\n",
            "6409.TW\n",
            "6412.TW\n",
            "6438.TW\n",
            "6491.TW\n",
            "6754.TW\n",
            "6799.TW\n",
            "['1615.TW', '1809.TW', '2059.TW', '2328.TW', '2379.TW', '2385.TW', '2387.TW', '2392.TW', '2420.TW', '2455.TW', '2482.TW', '2491.TW', '2543.TW', '2603.TW', '2637.TW', '3004.TW', '3028.TW', '3501.TW', '3563.TW', '3588.TW', '3592.TW', '4562.TW', '4588.TW', '4912.TW', '4994.TW', '5269.TW', '6165.TW', '6176.TW', '6177.TW', '6196.TW', '6409.TW', '6412.TW', '6438.TW', '6491.TW', '6754.TW', '6799.TW']\n"
          ]
        }
      ]
    },
    {
      "cell_type": "markdown",
      "source": [
        "# 回測數據"
      ],
      "metadata": {
        "id": "_00sE7wkbzzT"
      }
    },
    {
      "cell_type": "code",
      "source": [
        "tickers=['1615.TW','2330.TW']\n",
        "for ticker in tickers:\n",
        "  data = yf.download(ticker,start='2024-3-6', end=\"2024-3-7\")\n",
        "\n",
        "  print(data)\n"
      ],
      "metadata": {
        "colab": {
          "base_uri": "https://localhost:8080/"
        },
        "id": "7RdsCJbB_OSD",
        "outputId": "06ef9bec-c784-45ce-d861-67e3c84fde0d"
      },
      "execution_count": null,
      "outputs": [
        {
          "output_type": "stream",
          "name": "stderr",
          "text": [
            "ERROR:yfinance:Failed to get ticker '1615.TW' reason: Expecting value: line 1 column 1 (char 0)\n",
            "[*********************100%***********************]  1 of 1 completed\n",
            "ERROR:yfinance:\n",
            "1 Failed download:\n",
            "ERROR:yfinance:['1615.TW']: YFTzMissingError('possibly delisted; no timezone found')\n"
          ]
        },
        {
          "output_type": "stream",
          "name": "stdout",
          "text": [
            "Empty DataFrame\n",
            "Columns: [(Adj Close, 1615.TW), (Close, 1615.TW), (High, 1615.TW), (Low, 1615.TW), (Open, 1615.TW), (Volume, 1615.TW)]\n",
            "Index: []\n"
          ]
        },
        {
          "output_type": "stream",
          "name": "stderr",
          "text": [
            "\r[*********************100%***********************]  1 of 1 completed"
          ]
        },
        {
          "output_type": "stream",
          "name": "stdout",
          "text": [
            "Price          Close        High         Low        Open    Volume\n",
            "Ticker       2330.TW     2330.TW     2330.TW     2330.TW   2330.TW\n",
            "Date                                                              \n",
            "2024-03-06  722.7547  725.704719  705.054585  706.037924  43687122\n"
          ]
        },
        {
          "output_type": "stream",
          "name": "stderr",
          "text": [
            "\n"
          ]
        }
      ]
    },
    {
      "cell_type": "code",
      "source": [
        "import pandas as pd\n",
        "import numpy as np\n",
        "\n",
        "\n",
        "def augment_data(data: pd.DataFrame, target_size: int, noise_level: float = 0.02) -> pd.DataFrame:\n",
        "\n",
        "    num_new_samples = target_size - len(data)\n",
        "    np.random.seed(0)\n",
        "\n",
        "    # 隨機從原始資料中選擇資料來進行增強\n",
        "    selected_indices = np.random.choice(data.index, num_new_samples, replace=True)\n",
        "    new_samples = data.iloc[selected_indices].copy()\n",
        "\n",
        "    # 對數據進行增強\n",
        "    for col in data.columns[3:]:  # 忽略 'Unnamed: 0', 'unnamed', 'score'\n",
        "        original_values = new_samples[col].values\n",
        "        noise = np.random.normal(0, noise_level, original_values.shape)\n",
        "\n",
        "        # 隨機選擇 Scaling 或 Shifting\n",
        "        random_choice = np.random.rand(len(original_values))\n",
        "        adjusted_values = np.where(\n",
        "            random_choice < 0.5,\n",
        "            original_values * (1 + noise),  # 微調 (Scaling)\n",
        "            original_values + noise  # 加入噪音 (Shifting)\n",
        "        )\n",
        "\n",
        "        new_samples[col] = adjusted_values\n",
        "\n",
        "    # 將原始資料與增強資料合併\n",
        "    augmented_data = pd.concat([data, new_samples], ignore_index=True)\n",
        "    return augmented_data"
      ],
      "metadata": {
        "id": "O40TkzC1Ehrv"
      },
      "execution_count": null,
      "outputs": []
    }
  ]
}