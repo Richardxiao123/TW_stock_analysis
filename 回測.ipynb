{
  "nbformat": 4,
  "nbformat_minor": 0,
  "metadata": {
    "colab": {
      "provenance": [],
      "authorship_tag": "ABX9TyNtP+6DGY7mhkNvvH/HY/eY",
      "include_colab_link": true
    },
    "kernelspec": {
      "name": "python3",
      "display_name": "Python 3"
    },
    "language_info": {
      "name": "python"
    }
  },
  "cells": [
    {
      "cell_type": "markdown",
      "metadata": {
        "id": "view-in-github",
        "colab_type": "text"
      },
      "source": [
        "<a href=\"https://colab.research.google.com/github/Richardxiao123/TW_stock_analysis/blob/main/%E5%9B%9E%E6%B8%AC.ipynb\" target=\"_parent\"><img src=\"https://colab.research.google.com/assets/colab-badge.svg\" alt=\"Open In Colab\"/></a>"
      ]
    },
    {
      "cell_type": "markdown",
      "source": [
        "#載入所有股票代號"
      ],
      "metadata": {
        "id": "rkDS-wmsbtRV"
      }
    },
    {
      "cell_type": "code",
      "source": [
        "import pandas as pd\n",
        "\n",
        "stock_code =pd.read_csv(\"stock_code.csv\")\n",
        "stock_code=stock_code.drop(columns=['stock_code'])\n",
        "stock_code = stock_code.reset_index().rename(columns={'index': 'stockprice'})\n",
        "\n",
        "print(stock_code)\n",
        "\n",
        "\n"
      ],
      "metadata": {
        "id": "HZlkWUADSm__",
        "collapsed": true
      },
      "execution_count": null,
      "outputs": []
    },
    {
      "cell_type": "markdown",
      "source": [
        "# 數據處理\n"
      ],
      "metadata": {
        "id": "vex2pc0nbdft"
      }
    },
    {
      "cell_type": "code",
      "source": [
        "import yfinance as yf\n",
        "import pandas as pd\n",
        "from sklearn.preprocessing import MinMaxScaler\n",
        "\n",
        "data_test = pd.DataFrame()\n",
        "\n",
        "\n",
        "for a in stock_code['stockprice']:\n",
        "    ticker =f\"{a}.TW\"\n",
        "    data = yf.download(ticker,start='2024-2-19', end=\"2024-3-7\")\n",
        "\n",
        "    if data.empty:\n",
        "        print(f\"{ticker}.無資料跳過\")\n",
        "        continue\n",
        "\n",
        "    # 進行數據標準化\n",
        "    scaler = MinMaxScaler()\n",
        "    data_temp = pd.DataFrame(index=data.index)\n",
        "    data_temp['name'] = f\"{a}.TW\"\n",
        "\n",
        "    for x in ['Close', 'High', 'Low', 'Open', 'Volume']:\n",
        "        data_temp[x] = scaler.fit_transform(data[[x]])  # 線性變換 0~1\n",
        "\n",
        "    # 10 天為一組轉到同一排\n",
        "    new_data = {}\n",
        "    new_data['name'] = [data_temp['name'].iloc[0]]\n",
        "\n",
        "    for i in ['Close', 'High', 'Low', 'Open']:\n",
        "        for y in range(10):\n",
        "            new_data[f\"{i}{y+1}\"] = data_temp[i].iloc[y]\n",
        "\n",
        "    new_data = pd.DataFrame(new_data)\n",
        "    data_test = pd.concat([data_test, new_data], ignore_index=True)\n",
        "    #print(new_data)\n",
        "\n",
        "print(data_test)\n"
      ],
      "metadata": {
        "id": "acLl_5iHOscC"
      },
      "execution_count": null,
      "outputs": []
    },
    {
      "cell_type": "code",
      "source": [
        "from google.colab import files\n",
        "data_test.to_csv('data_run.csv')\n",
        "files.download('data_run.csv')"
      ],
      "metadata": {
        "colab": {
          "base_uri": "https://localhost:8080/",
          "height": 17
        },
        "id": "IzesckaCZ76d",
        "outputId": "83386980-0f5d-406a-8174-8174f910ccb5"
      },
      "execution_count": null,
      "outputs": [
        {
          "output_type": "display_data",
          "data": {
            "text/plain": [
              "<IPython.core.display.Javascript object>"
            ],
            "application/javascript": [
              "\n",
              "    async function download(id, filename, size) {\n",
              "      if (!google.colab.kernel.accessAllowed) {\n",
              "        return;\n",
              "      }\n",
              "      const div = document.createElement('div');\n",
              "      const label = document.createElement('label');\n",
              "      label.textContent = `Downloading \"${filename}\": `;\n",
              "      div.appendChild(label);\n",
              "      const progress = document.createElement('progress');\n",
              "      progress.max = size;\n",
              "      div.appendChild(progress);\n",
              "      document.body.appendChild(div);\n",
              "\n",
              "      const buffers = [];\n",
              "      let downloaded = 0;\n",
              "\n",
              "      const channel = await google.colab.kernel.comms.open(id);\n",
              "      // Send a message to notify the kernel that we're ready.\n",
              "      channel.send({})\n",
              "\n",
              "      for await (const message of channel.messages) {\n",
              "        // Send a message to notify the kernel that we're ready.\n",
              "        channel.send({})\n",
              "        if (message.buffers) {\n",
              "          for (const buffer of message.buffers) {\n",
              "            buffers.push(buffer);\n",
              "            downloaded += buffer.byteLength;\n",
              "            progress.value = downloaded;\n",
              "          }\n",
              "        }\n",
              "      }\n",
              "      const blob = new Blob(buffers, {type: 'application/binary'});\n",
              "      const a = document.createElement('a');\n",
              "      a.href = window.URL.createObjectURL(blob);\n",
              "      a.download = filename;\n",
              "      div.appendChild(a);\n",
              "      a.click();\n",
              "      div.remove();\n",
              "    }\n",
              "  "
            ]
          },
          "metadata": {}
        },
        {
          "output_type": "display_data",
          "data": {
            "text/plain": [
              "<IPython.core.display.Javascript object>"
            ],
            "application/javascript": [
              "download(\"download_e20e25d4-0e49-46ed-9512-417449f12696\", \"data_run.csv\", 651030)"
            ]
          },
          "metadata": {}
        }
      ]
    },
    {
      "cell_type": "markdown",
      "source": [
        "# 開始預測"
      ],
      "metadata": {
        "id": "x_87Dt70bnZk"
      }
    },
    {
      "cell_type": "code",
      "source": [
        "import pickle\n",
        "import pandas as pd\n",
        "\n",
        "with open(\"rf_model.pkl\", \"rb\") as f:\n",
        "    rf_model = pickle.load(f)\n",
        "\n",
        "#讀檔\n",
        "data_run =pd.read_csv(\"data_run.csv\")\n",
        "\n",
        "X_test=data_run.drop(columns=['name']).drop(columns=['Unnamed: 0'])\n",
        "name=data_run['name']\n",
        "print(X_test)\n",
        "\n",
        "y_pred = rf_model.predict(X_test)\n",
        "\n",
        "print(y_pred)\n",
        "\n",
        "count=0\n",
        "buy_list=[]\n",
        "for n in y_pred:\n",
        "    if n == 5:\n",
        "        print(name[count])\n",
        "        buy_list.append(name[count])\n",
        "        count+=1\n",
        "    else:\n",
        "          count+=1\n",
        "\n",
        "print(buy_list)"
      ],
      "metadata": {
        "id": "c91U9FtyHv7n"
      },
      "execution_count": null,
      "outputs": []
    },
    {
      "cell_type": "markdown",
      "source": [
        "# 回測數據"
      ],
      "metadata": {
        "id": "_00sE7wkbzzT"
      }
    },
    {
      "cell_type": "code",
      "source": [
        "tickers=['1615.TW','2330.TW']\n",
        "for ticker in tickers:\n",
        "  data = yf.download(ticker,start='2024-3-6', end=\"2024-3-7\")\n",
        "\n",
        "  print(data)\n"
      ],
      "metadata": {
        "id": "7RdsCJbB_OSD"
      },
      "execution_count": null,
      "outputs": []
    },
    {
      "cell_type": "code",
      "source": [
        "import pandas as pd\n",
        "import numpy as np\n",
        "\n",
        "\n",
        "def augment_data(data: pd.DataFrame, target_size: int, noise_level: float = 0.02) -> pd.DataFrame:\n",
        "\n",
        "    num_new_samples = target_size - len(data)\n",
        "    np.random.seed(0)\n",
        "\n",
        "    # 隨機從原始資料中選擇資料來進行增強\n",
        "    selected_indices = np.random.choice(data.index, num_new_samples, replace=True)\n",
        "    new_samples = data.iloc[selected_indices].copy()\n",
        "\n",
        "    # 對數據進行增強\n",
        "    for col in data.columns[3:]:  # 忽略 'Unnamed: 0', 'unnamed', 'score'\n",
        "        original_values = new_samples[col].values\n",
        "        noise = np.random.normal(0, noise_level, original_values.shape)\n",
        "\n",
        "        # 隨機選擇 Scaling 或 Shifting\n",
        "        random_choice = np.random.rand(len(original_values))\n",
        "        adjusted_values = np.where(\n",
        "            random_choice < 0.5,\n",
        "            original_values * (1 + noise),  # 微調 (Scaling)\n",
        "            original_values + noise  # 加入噪音 (Shifting)\n",
        "        )\n",
        "\n",
        "        new_samples[col] = adjusted_values\n",
        "\n",
        "    # 將原始資料與增強資料合併\n",
        "    augmented_data = pd.concat([data, new_samples], ignore_index=True)\n",
        "    return augmented_data"
      ],
      "metadata": {
        "id": "O40TkzC1Ehrv"
      },
      "execution_count": null,
      "outputs": []
    }
  ]
}