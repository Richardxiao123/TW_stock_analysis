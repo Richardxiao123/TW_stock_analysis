{
  "nbformat": 4,
  "nbformat_minor": 0,
  "metadata": {
    "colab": {
      "provenance": [],
      "authorship_tag": "ABX9TyOOHjL/F3dVH+XuZUZoK24M",
      "include_colab_link": true
    },
    "kernelspec": {
      "name": "python3",
      "display_name": "Python 3"
    },
    "language_info": {
      "name": "python"
    }
  },
  "cells": [
    {
      "cell_type": "markdown",
      "metadata": {
        "id": "view-in-github",
        "colab_type": "text"
      },
      "source": [
        "<a href=\"https://colab.research.google.com/github/Richardxiao123/TW_stock_analysis/blob/main/%E5%9B%9E%E6%B8%AC.ipynb\" target=\"_parent\"><img src=\"https://colab.research.google.com/assets/colab-badge.svg\" alt=\"Open In Colab\"/></a>"
      ]
    },
    {
      "cell_type": "markdown",
      "source": [
        "#載入所有股票代號"
      ],
      "metadata": {
        "id": "rkDS-wmsbtRV"
      }
    },
    {
      "cell_type": "code",
      "source": [
        "import pandas as pd\n",
        "\n",
        "stock_code =pd.read_csv(\"stock_code.csv\")\n",
        "stock_code=stock_code.drop(columns=['stock_code'])\n",
        "stock_code = stock_code.reset_index().rename(columns={'index': 'stockprice'})\n",
        "\n",
        "print(stock_code)\n",
        "\n",
        "\n"
      ],
      "metadata": {
        "id": "HZlkWUADSm__",
        "collapsed": true
      },
      "execution_count": null,
      "outputs": []
    },
    {
      "cell_type": "markdown",
      "source": [
        "# 數據處理\n"
      ],
      "metadata": {
        "id": "vex2pc0nbdft"
      }
    },
    {
      "cell_type": "code",
      "source": [
        "import yfinance as yf\n",
        "import pandas as pd\n",
        "from sklearn.preprocessing import MinMaxScaler\n",
        "\n",
        "data_test = pd.DataFrame()\n",
        "\n",
        "\n",
        "for a in stock_code['stockprice']:\n",
        "    ticker =f\"{a}.TW\"\n",
        "    data = yf.download(ticker,start='2024-2-19', end=\"2024-3-7\")\n",
        "\n",
        "    if data.empty:\n",
        "        print(f\"{ticker}.無資料跳過\")\n",
        "        continue\n",
        "\n",
        "    # 進行數據標準化\n",
        "    scaler = MinMaxScaler()\n",
        "    data_temp = pd.DataFrame(index=data.index)\n",
        "    data_temp['name'] = f\"{a}.TW\"\n",
        "\n",
        "    for x in ['Close', 'High', 'Low', 'Open', 'Volume']:\n",
        "        data_temp[x] = scaler.fit_transform(data[[x]])  # 線性變換 0~1\n",
        "\n",
        "    # 10 天為一組轉到同一排\n",
        "    new_data = {}\n",
        "    new_data['name'] = [data_temp['name'].iloc[0]]\n",
        "\n",
        "    for i in ['Close', 'High', 'Low', 'Open']:\n",
        "        for y in range(10):\n",
        "            new_data[f\"{i}{y+1}\"] = data_temp[i].iloc[y]\n",
        "\n",
        "    new_data = pd.DataFrame(new_data)\n",
        "    data_test = pd.concat([data_test, new_data], ignore_index=True)\n",
        "    #print(new_data)\n",
        "\n",
        "print(data_test)\n"
      ],
      "metadata": {
        "id": "acLl_5iHOscC"
      },
      "execution_count": null,
      "outputs": []
    },
    {
      "cell_type": "code",
      "source": [
        "from google.colab import files\n",
        "data_test.to_csv('data_run.csv')\n",
        "files.download('data_run.csv')"
      ],
      "metadata": {
        "colab": {
          "base_uri": "https://localhost:8080/",
          "height": 17
        },
        "id": "IzesckaCZ76d",
        "outputId": "83386980-0f5d-406a-8174-8174f910ccb5"
      },
      "execution_count": null,
      "outputs": [
        {
          "output_type": "display_data",
          "data": {
            "text/plain": [
              "<IPython.core.display.Javascript object>"
            ],
            "application/javascript": [
              "\n",
              "    async function download(id, filename, size) {\n",
              "      if (!google.colab.kernel.accessAllowed) {\n",
              "        return;\n",
              "      }\n",
              "      const div = document.createElement('div');\n",
              "      const label = document.createElement('label');\n",
              "      label.textContent = `Downloading \"${filename}\": `;\n",
              "      div.appendChild(label);\n",
              "      const progress = document.createElement('progress');\n",
              "      progress.max = size;\n",
              "      div.appendChild(progress);\n",
              "      document.body.appendChild(div);\n",
              "\n",
              "      const buffers = [];\n",
              "      let downloaded = 0;\n",
              "\n",
              "      const channel = await google.colab.kernel.comms.open(id);\n",
              "      // Send a message to notify the kernel that we're ready.\n",
              "      channel.send({})\n",
              "\n",
              "      for await (const message of channel.messages) {\n",
              "        // Send a message to notify the kernel that we're ready.\n",
              "        channel.send({})\n",
              "        if (message.buffers) {\n",
              "          for (const buffer of message.buffers) {\n",
              "            buffers.push(buffer);\n",
              "            downloaded += buffer.byteLength;\n",
              "            progress.value = downloaded;\n",
              "          }\n",
              "        }\n",
              "      }\n",
              "      const blob = new Blob(buffers, {type: 'application/binary'});\n",
              "      const a = document.createElement('a');\n",
              "      a.href = window.URL.createObjectURL(blob);\n",
              "      a.download = filename;\n",
              "      div.appendChild(a);\n",
              "      a.click();\n",
              "      div.remove();\n",
              "    }\n",
              "  "
            ]
          },
          "metadata": {}
        },
        {
          "output_type": "display_data",
          "data": {
            "text/plain": [
              "<IPython.core.display.Javascript object>"
            ],
            "application/javascript": [
              "download(\"download_e20e25d4-0e49-46ed-9512-417449f12696\", \"data_run.csv\", 651030)"
            ]
          },
          "metadata": {}
        }
      ]
    },
    {
      "cell_type": "markdown",
      "source": [
        "# 開始預測"
      ],
      "metadata": {
        "id": "x_87Dt70bnZk"
      }
    },
    {
      "cell_type": "code",
      "source": [
        "import pickle\n",
        "import pandas as pd\n",
        "\n",
        "with open(\"rf_model.pkl\", \"rb\") as f:\n",
        "    rf_model = pickle.load(f)\n",
        "\n",
        "#讀檔\n",
        "data_run =pd.read_csv(\"data_run.csv\")\n",
        "\n",
        "X_test=data_run.drop(columns=['name']).drop(columns=['Unnamed: 0'])\n",
        "name=data_run['name']\n",
        "print(X_test)\n",
        "\n",
        "y_pred = rf_model.predict(X_test)\n",
        "\n",
        "print(y_pred)\n",
        "\n",
        "count=0\n",
        "buy_list=[]\n",
        "for n in y_pred:\n",
        "    if n == 5:\n",
        "        print(name[count])\n",
        "        buy_list.append(name[count])\n",
        "        count+=1\n",
        "    else:\n",
        "          count+=1\n",
        "\n",
        "print(buy_list)"
      ],
      "metadata": {
        "id": "c91U9FtyHv7n"
      },
      "execution_count": null,
      "outputs": []
    },
    {
      "cell_type": "markdown",
      "source": [
        "# 回測數據"
      ],
      "metadata": {
        "id": "_00sE7wkbzzT"
      }
    },
    {
      "cell_type": "code",
      "source": [
        "import yfinance as yf\n",
        "\n",
        "buy_list = ['1615.TW', '2059.TW', '2328.TW', '2379.TW', '2385.TW', '2387.TW', '6799.TW',\n",
        "            '2392.TW', '2420.TW', '2455.TW', '2482.TW', '2491.TW', '2543.TW', '2603.TW',\n",
        "            '2637.TW', '3004.TW', '3028.TW', '3501.TW', '3563.TW', '3588.TW', '3592.TW',\n",
        "            '4562.TW', '4588.TW', '4912.TW', '4994.TW', '5269.TW', '6165.TW', '6176.TW',\n",
        "            '6177.TW', '6196.TW', '6409.TW', '6412.TW', '6438.TW', '6491.TW', '6754.TW']\n",
        "\n",
        "change_rate=[]\n",
        "for ticker in buy_list:\n",
        "        back_test = yf.download(ticker, start='2024-3-6', end=\"2024-3-7\")\n",
        "        back_test2 = yf.download(ticker, start='2024-3-21', end=\"2024-3-22\")\n",
        "\n",
        "        # 確認資料下載成功\n",
        "\n",
        "        x = back_test['Close'].iloc[0].item()\n",
        "        y = back_test2['Close'].iloc[0].item()\n",
        "        z = y - x\n",
        "        change_rate.append(z/x)\n",
        "        print(f\"{ticker}: 變動比例 = {z / x}\")\n",
        "\n",
        "\n",
        "print(change_rate)\n",
        "print('報酬率',sum(change_rate))\n",
        "amount = len(change_rate)\n",
        "print('平均報酬率',sum(change_rate)/amount)"
      ],
      "metadata": {
        "id": "3o-FiMFIVg7K"
      },
      "execution_count": null,
      "outputs": []
    }
  ]
}